{
 "cells": [
  {
   "cell_type": "markdown",
   "id": "b5e68056-db44-404c-a86c-8cc49a5e4de8",
   "metadata": {},
   "source": [
    "# Data Science Tools and Ecosystem "
   ]
  },
  {
   "cell_type": "markdown",
   "id": "077d1b79-9d62-4d6e-ab8d-1111c3d04213",
   "metadata": {},
   "source": [
    "In this notebook, Data Science Tools and Ecosytem are summarized. "
   ]
  },
  {
   "cell_type": "markdown",
   "id": "60dfa7a4-7b71-4455-9157-6d3e447bf4ad",
   "metadata": {},
   "source": [
    "**Objectives:**\n",
    "\n",
    "- Create a markdown cell to list data science libraries\n",
    "- Create a markdown cell with a table of Data Science tools\n",
    "- Create a markdown cell introducing arithmetic expression examples\n",
    " "
   ]
  },
  {
   "cell_type": "markdown",
   "id": "8a82e038-7b24-4c1d-a319-9423f39064bc",
   "metadata": {},
   "source": [
    "Some of the popular languages that Data Scientists use are:\n",
    "\n",
    "- Python\n",
    "- R languages\n",
    "- C++"
   ]
  },
  {
   "cell_type": "markdown",
   "id": "a83af51f-1414-4795-a6da-634b3b2f536b",
   "metadata": {},
   "source": [
    "Some commonly used libraries used by Data Scientists include: \n",
    "\n",
    "- NumPy\n",
    "- Pandas\n",
    "- scikit-learn\n",
    "  "
   ]
  },
  {
   "cell_type": "markdown",
   "id": "68b25828-6ff4-48e1-9de2-cdb87e8aab2f",
   "metadata": {},
   "source": [
    "| Data Science Tools   |\n",
    "|----------------------|\n",
    "| Jupyter Notebook     |\n",
    "| RStudio              |\n",
    "| VS Code with Python  |\n"
   ]
  },
  {
   "cell_type": "markdown",
   "id": "ee8a1dfb-1611-43c9-a76b-17d75edc6557",
   "metadata": {},
   "source": [
    "Below are a few examples of evaluating arithmetic expressions in Python"
   ]
  },
  {
   "cell_type": "code",
   "execution_count": 6,
   "id": "8cc783de-0043-4873-88f9-69c36e361d03",
   "metadata": {},
   "outputs": [
    {
     "data": {
      "text/plain": [
       "17"
      ]
     },
     "execution_count": 6,
     "metadata": {},
     "output_type": "execute_result"
    }
   ],
   "source": [
    "(3*4)+5\n",
    "#This is a simple "
   ]
  },
  {
   "cell_type": "code",
   "execution_count": 7,
   "id": "8bd7d618-58a5-45a9-8749-1ce214f68a8f",
   "metadata": {},
   "outputs": [
    {
     "data": {
      "text/plain": [
       "3.3333333333333335"
      ]
     },
     "execution_count": 7,
     "metadata": {},
     "output_type": "execute_result"
    }
   ],
   "source": [
    "200/60\n",
    "\n",
    "#This will convert 200 minutes to hours by dividing by 60. "
   ]
  },
  {
   "cell_type": "markdown",
   "id": "7522490c-9c2b-4728-adfc-d0ac6af939c7",
   "metadata": {},
   "source": [
    "## Author\n",
    "\n",
    "Makena Grigsby \n"
   ]
  },
  {
   "cell_type": "code",
   "execution_count": null,
   "id": "be63e459-33a0-447c-88e8-ea7a6be3a61e",
   "metadata": {},
   "outputs": [],
   "source": []
  }
 ],
 "metadata": {
  "kernelspec": {
   "display_name": "Python 3 (ipykernel)",
   "language": "python",
   "name": "python3"
  },
  "language_info": {
   "codemirror_mode": {
    "name": "ipython",
    "version": 3
   },
   "file_extension": ".py",
   "mimetype": "text/x-python",
   "name": "python",
   "nbconvert_exporter": "python",
   "pygments_lexer": "ipython3",
   "version": "3.11.3"
  }
 },
 "nbformat": 4,
 "nbformat_minor": 5
}
